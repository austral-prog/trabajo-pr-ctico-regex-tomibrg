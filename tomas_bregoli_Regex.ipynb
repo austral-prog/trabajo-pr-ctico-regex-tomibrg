{
 "cells": [
  {
   "cell_type": "code",
   "execution_count": 1,
   "id": "98bce14f-98b2-4855-99c3-284c9f0f1322",
   "metadata": {},
   "outputs": [],
   "source": [
    "import re\n",
    "\n",
    "s = \"\"\"\n",
    "\n",
    "Once upon a time, in the enchanted land of Regexville, there lived a group of intrepid explorers.\n",
    "Their leader, Alice, was known for her love of adventure and her trusty email address, alice@example.com.\n",
    "Her phone number, 123-456-7890, was her lifeline in times of trouble.\n",
    "One day, Alice received a mysterious letter with today's date: 08/10/2023. The letter hinted at an upcoming quest.\n",
    "The explorers gathered at the local inn, where they found a weathered map marked with a hashtag: #adventure.\n",
    "The map pointed to a hidden treasure on the website https://www.treasurehunt.com. The inn's address was 123 Main Street, Regexville, ZIP: 12345-6789.\n",
    "Their journey took them through the ancient forest, where they stumbled upon a cave with cryptic inscriptions:\n",
    "\"Python is amazing!\" and \"Java is equally fascinating!\" The explorers knew they were on the right path.\n",
    "Inside the cave, they found a device with the IP address 192.168.1.1 and a MAC addres of 00-B0-D0-63-C2-26, which held valuable clues.\n",
    "\n",
    "Among the explorers, there was a wordsmith who loved finding words with three consecutive vowels:\n",
    "\"boasting,\" \"quizzical,\" \"genuine,\" and \"queue\" were some of his favorites.\n",
    "As they continued their adventure, they encountered Lorem Ipsum, a lorem ipsum generator who spoke in Latin:\n",
    "\"Lorem ipsum dolor sit amet, consectetur adipiscing elit.\"\n",
    "In their pursuit, they stumbled upon an ancient book with mysterious ISBN-10 and ISBN-13 numbers:\n",
    "ISBN-10: 123456789X and ISBN-13: 978-1234567890.\n",
    "Their journey was filled with unexpected twists and turns, much like the regex patterns they used to decipher clues.\n",
    "After a long day, the explorers gathered around a campfire, sharing tales of their encounters. They realized that every step of their adventure was a puzzle waiting to be solved, just like the regex challenges they had conquered.\n",
    "As they drifted off to sleep under a starlit sky, they knew that their quest for treasure and knowledge had only just begun, and the magic of Regexville would continue to guide their way.\n",
    "\n",
    "\"\"\""
   ]
  },
  {
   "cell_type": "markdown",
   "id": "514f802a-9b85-4457-80b4-b53623832bb2",
   "metadata": {},
   "source": [
    "#### Write a Python program that matches and prints all words that start with the letter 'A' in a given text."
   ]
  },
  {
   "cell_type": "code",
   "execution_count": 11,
   "id": "db4c55db-2416-43bc-83b3-07eea37df2d7",
   "metadata": {
    "scrolled": true
   },
   "outputs": [
    {
     "name": "stdout",
     "output_type": "stream",
     "text": [
      "['Alice', 'Alice', 'Among', 'As', 'After', 'As']\n"
     ]
    }
   ],
   "source": [
    "print(re.findall(r'A[a-z]+',s))"
   ]
  },
  {
   "cell_type": "markdown",
   "id": "964905ba-bcb1-4c2e-9a21-224e68728094",
   "metadata": {},
   "source": [
    "#### Create a Python program to validate email addresses. The program should check if a given string is a valid email address or not."
   ]
  },
  {
   "cell_type": "code",
   "execution_count": 15,
   "id": "4b499ed5-e972-4116-a721-dbfb29e781d5",
   "metadata": {},
   "outputs": [
    {
     "name": "stdout",
     "output_type": "stream",
     "text": [
      "['alice@example.com.']\n"
     ]
    }
   ],
   "source": [
    "print(re.findall(r'\\S+@\\S+', s))"
   ]
  },
  {
   "cell_type": "markdown",
   "id": "9e6e0450-214b-40c6-a474-6dff2c41ee43",
   "metadata": {},
   "source": [
    "#### Write a Python program to find and count all the digits in a given text."
   ]
  },
  {
   "cell_type": "code",
   "execution_count": 16,
   "id": "ec71a1d9-d971-4119-9124-a3f993069eeb",
   "metadata": {},
   "outputs": [
    {
     "name": "stdout",
     "output_type": "stream",
     "text": [
      "77\n"
     ]
    }
   ],
   "source": [
    "print(len(re.findall(r'\\d',s)))"
   ]
  },
  {
   "cell_type": "markdown",
   "id": "5ba7033a-f85c-4ff9-9696-1a069beda9fb",
   "metadata": {},
   "source": [
    "#### Create a Python program that extracts all the URLs (http:// or https://) from a given text."
   ]
  },
  {
   "cell_type": "code",
   "execution_count": 32,
   "id": "084f2eb3-e67c-45bd-8460-b113b6794e82",
   "metadata": {},
   "outputs": [
    {
     "name": "stdout",
     "output_type": "stream",
     "text": [
      "\n",
      "\n",
      "Once upon a time, in the enchanted land of Regexville, there lived a group of intrepid explorers.\n",
      "Their leader, Alice, was known for her love of adventure and her trusty email address, alice@example.com.\n",
      "Her phone number, 123-456-7890, was her lifeline in times of trouble.\n",
      "One day, Alice received a mysterious letter with today's date: 08/10/2023. The letter hinted at an upcoming quest.\n",
      "The explorers gathered at the local inn, where they found a weathered map marked with a hashtag: #adventure.\n",
      "The map pointed to a hidden treasure on the website www.treasurehunt.com. The inn's address was 123 Main Street, Regexville, ZIP: 12345-6789.\n",
      "Their journey took them through the ancient forest, where they stumbled upon a cave with cryptic inscriptions:\n",
      "\"Python is amazing!\" and \"Java is equally fascinating!\" The explorers knew they were on the right path.\n",
      "Inside the cave, they found a device with the IP address 192.168.1.1 and a MAC addres of 00-B0-D0-63-C2-26, which held valuable clues.\n",
      "\n",
      "Among the explorers, there was a wordsmith who loved finding words with three consecutive vowels:\n",
      "\"boasting,\" \"quizzical,\" \"genuine,\" and \"queue\" were some of his favorites.\n",
      "As they continued their adventure, they encountered Lorem Ipsum, a lorem ipsum generator who spoke in Latin:\n",
      "\"Lorem ipsum dolor sit amet, consectetur adipiscing elit.\"\n",
      "In their pursuit, they stumbled upon an ancient book with mysterious ISBN-10 and ISBN-13 numbers:\n",
      "ISBN-10: 123456789X and ISBN-13: 978-1234567890.\n",
      "Their journey was filled with unexpected twists and turns, much like the regex patterns they used to decipher clues.\n",
      "After a long day, the explorers gathered around a campfire, sharing tales of their encounters. They realized that every step of their adventure was a puzzle waiting to be solved, just like the regex challenges they had conquered.\n",
      "As they drifted off to sleep under a starlit sky, they knew that their quest for treasure and knowledge had only just begun, and the magic of Regexville would continue to guide their way.\n",
      "\n",
      "\n"
     ]
    }
   ],
   "source": [
    "print(re.sub(r'http://|https://','',s))"
   ]
  },
  {
   "cell_type": "markdown",
   "id": "04664806-5191-4a7a-bb82-be8cd0e9a77c",
   "metadata": {},
   "source": [
    "#### Write a Python program that extracts all the phone numbers (in the format xxx-xxx-xxxx) from a given text."
   ]
  },
  {
   "cell_type": "code",
   "execution_count": 22,
   "id": "a88f57ea-c034-49e3-9586-bcf1a9b795f8",
   "metadata": {},
   "outputs": [
    {
     "name": "stdout",
     "output_type": "stream",
     "text": [
      "\n",
      "\n",
      "Once upon a time, in the enchanted land of Regexville, there lived a group of intrepid explorers.\n",
      "Their leader, Alice, was known for her love of adventure and her trusty email address, alice@example.com.\n",
      "Her phone number,  , was her lifeline in times of trouble.\n",
      "One day, Alice received a mysterious letter with today's date: 08/10/2023. The letter hinted at an upcoming quest.\n",
      "The explorers gathered at the local inn, where they found a weathered map marked with a hashtag: #adventure.\n",
      "The map pointed to a hidden treasure on the website https://www.treasurehunt.com. The inn's address was 123 Main Street, Regexville, ZIP: 12345-6789.\n",
      "Their journey took them through the ancient forest, where they stumbled upon a cave with cryptic inscriptions:\n",
      "\"Python is amazing!\" and \"Java is equally fascinating!\" The explorers knew they were on the right path.\n",
      "Inside the cave, they found a device with the IP address 192.168.1.1 and a MAC addres of 00-B0-D0-63-C2-26, which held valuable clues.\n",
      "\n",
      "Among the explorers, there was a wordsmith who loved finding words with three consecutive vowels:\n",
      "\"boasting,\" \"quizzical,\" \"genuine,\" and \"queue\" were some of his favorites.\n",
      "As they continued their adventure, they encountered Lorem Ipsum, a lorem ipsum generator who spoke in Latin:\n",
      "\"Lorem ipsum dolor sit amet, consectetur adipiscing elit.\"\n",
      "In their pursuit, they stumbled upon an ancient book with mysterious ISBN-10 and ISBN-13 numbers:\n",
      "ISBN-10: 123456789X and ISBN-13: 978-1234567890.\n",
      "Their journey was filled with unexpected twists and turns, much like the regex patterns they used to decipher clues.\n",
      "After a long day, the explorers gathered around a campfire, sharing tales of their encounters. They realized that every step of their adventure was a puzzle waiting to be solved, just like the regex challenges they had conquered.\n",
      "As they drifted off to sleep under a starlit sky, they knew that their quest for treasure and knowledge had only just begun, and the magic of Regexville would continue to guide their way.\n",
      "\n",
      "\n"
     ]
    }
   ],
   "source": [
    "print(re.sub(r'\\d{1,3}-\\d{1,3}-\\d{1,4}',' ',s))"
   ]
  },
  {
   "cell_type": "markdown",
   "id": "9601a4e1-beee-4c81-8f64-b8794c73d593",
   "metadata": {},
   "source": [
    "#### Write a Python program that replaces all occurrences of \"Python\" with \"Java\" in a given text."
   ]
  },
  {
   "cell_type": "code",
   "execution_count": 23,
   "id": "fc8577e1-8f37-4c29-91f1-314736687689",
   "metadata": {},
   "outputs": [
    {
     "name": "stdout",
     "output_type": "stream",
     "text": [
      "\n",
      "\n",
      "Once upon a time, in the enchanted land of Regexville, there lived a group of intrepid explorers.\n",
      "Their leader, Alice, was known for her love of adventure and her trusty email address, alice@example.com.\n",
      "Her phone number, 123-456-7890, was her lifeline in times of trouble.\n",
      "One day, Alice received a mysterious letter with today's date: 08/10/2023. The letter hinted at an upcoming quest.\n",
      "The explorers gathered at the local inn, where they found a weathered map marked with a hashtag: #adventure.\n",
      "The map pointed to a hidden treasure on the website https://www.treasurehunt.com. The inn's address was 123 Main Street, Regexville, ZIP: 12345-6789.\n",
      "Their journey took them through the ancient forest, where they stumbled upon a cave with cryptic inscriptions:\n",
      "\"Java is amazing!\" and \"Java is equally fascinating!\" The explorers knew they were on the right path.\n",
      "Inside the cave, they found a device with the IP address 192.168.1.1 and a MAC addres of 00-B0-D0-63-C2-26, which held valuable clues.\n",
      "\n",
      "Among the explorers, there was a wordsmith who loved finding words with three consecutive vowels:\n",
      "\"boasting,\" \"quizzical,\" \"genuine,\" and \"queue\" were some of his favorites.\n",
      "As they continued their adventure, they encountered Lorem Ipsum, a lorem ipsum generator who spoke in Latin:\n",
      "\"Lorem ipsum dolor sit amet, consectetur adipiscing elit.\"\n",
      "In their pursuit, they stumbled upon an ancient book with mysterious ISBN-10 and ISBN-13 numbers:\n",
      "ISBN-10: 123456789X and ISBN-13: 978-1234567890.\n",
      "Their journey was filled with unexpected twists and turns, much like the regex patterns they used to decipher clues.\n",
      "After a long day, the explorers gathered around a campfire, sharing tales of their encounters. They realized that every step of their adventure was a puzzle waiting to be solved, just like the regex challenges they had conquered.\n",
      "As they drifted off to sleep under a starlit sky, they knew that their quest for treasure and knowledge had only just begun, and the magic of Regexville would continue to guide their way.\n",
      "\n",
      "\n"
     ]
    }
   ],
   "source": [
    "print(re.sub(r'Python','Java',s))"
   ]
  },
  {
   "cell_type": "markdown",
   "id": "7b4927c7-aeaa-45b3-b188-bdeffad10427",
   "metadata": {},
   "source": [
    "#### Create a Python program to validate US ZIP codes (5 digits, optional hyphen, followed by 4 more digits)."
   ]
  },
  {
   "cell_type": "code",
   "execution_count": 5,
   "id": "1a47bad6-3a06-42d4-a8fb-5b68b9b91173",
   "metadata": {},
   "outputs": [
    {
     "name": "stdout",
     "output_type": "stream",
     "text": [
      "['12345-6789', '123456789', '123456789']\n"
     ]
    }
   ],
   "source": [
    "print(re.findall(r'\\d{5}-?\\d{4}',s))"
   ]
  },
  {
   "cell_type": "markdown",
   "id": "3fae7411-88ab-4d0f-8f90-300455f8b0f2",
   "metadata": {},
   "source": [
    "#### Write a Python program that extracts all the words with 3 or more consecutive vowels from a given text."
   ]
  },
  {
   "cell_type": "code",
   "execution_count": 7,
   "id": "8c582872-3f44-46e1-b3d5-c185a248cedb",
   "metadata": {},
   "outputs": [
    {
     "name": "stdout",
     "output_type": "stream",
     "text": [
      "\n",
      "\n",
      "Once upon a time, in the enchanted land of Regexville, there lived a group of intrepid explorers.\n",
      "Their leader, Alice, was known for her love of adventure and her trusty email address, alice@example.com.\n",
      "Her phone number, 123-456-7890, was her lifeline in times of trouble.\n",
      "One day, Alice received a  letter with today's date: 08/10/2023. The letter hinted at an upcoming quest.\n",
      "The explorers gathered at the local inn, where they found a weathered map marked with a hashtag: #adventure.\n",
      "The map pointed to a hidden treasure on the website https://www.treasurehunt.com. The inn's address was 123 Main Street, Regexville, ZIP: 12345-6789.\n",
      "Their journey took them through the ancient forest, where they stumbled upon a cave with cryptic inscriptions:\n",
      "\"Python is amazing!\" and \"Java is equally fascinating!\" The explorers knew they were on the right path.\n",
      "Inside the cave, they found a device with the IP address 192.168.1.1 and a MAC addres of 00-B0-D0-63-C2-26, which held valuable clues.\n",
      "\n",
      "Among the explorers, there was a wordsmith who loved finding words with three consecutive vowels:\n",
      "\"boasting,\" \"quizzical,\" \"genuine,\" and \"\" were some of his favorites.\n",
      "As they continued their adventure, they encountered Lorem Ipsum, a lorem ipsum generator who spoke in Latin:\n",
      "\"Lorem ipsum dolor sit amet, consectetur adipiscing elit.\"\n",
      "In their pursuit, they stumbled upon an ancient book with  ISBN-10 and ISBN-13 numbers:\n",
      "ISBN-10: 123456789X and ISBN-13: 978-1234567890.\n",
      "Their journey was filled with unexpected twists and turns, much like the regex patterns they used to decipher clues.\n",
      "After a long day, the explorers gathered around a campfire, sharing tales of their encounters. They realized that every step of their adventure was a puzzle waiting to be solved, just like the regex challenges they had conquered.\n",
      "As they drifted off to sleep under a starlit sky, they knew that their quest for treasure and knowledge had only just begun, and the magic of Regexville would continue to guide their way.\n",
      "\n",
      "\n"
     ]
    }
   ],
   "source": [
    "print(re.sub(r'\\b\\w*[aeiou]{3,}\\w*\\b','',s))"
   ]
  },
  {
   "cell_type": "markdown",
   "id": "7d03b484-4ed5-4873-95a1-6968d5001479",
   "metadata": {},
   "source": [
    "#### Write a Python program that extracts all the words that are enclosed in double quotes in a given text."
   ]
  },
  {
   "cell_type": "code",
   "execution_count": 10,
   "id": "b3ccfe62-4b3c-4ead-89f7-e33b52dd43c2",
   "metadata": {},
   "outputs": [
    {
     "name": "stdout",
     "output_type": "stream",
     "text": [
      "\n",
      "\n",
      "Once upon a time, in the enchanted land of Regexville, there lived a group of intrepid explorers.\n",
      "Their leader, Alice, was known for her love of adventure and her trusty email address, alice@example.com.\n",
      "Her phone number, 123-456-7890, was her lifeline in times of trouble.\n",
      "One day, Alice received a mysterious letter with today's date: 08/10/2023. The letter hinted at an upcoming quest.\n",
      "The explorers gathered at the local inn, where they found a weathered map marked with a hashtag: #adventure.\n",
      "The map pointed to a hidden treasure on the website https://www.treasurehunt.com. The inn's address was 123 Main Street, Regexville, ZIP: 12345-6789.\n",
      "Their journey took them through the ancient forest, where they stumbled upon a cave with cryptic inscriptions:\n",
      " The explorers knew they were on the right path.\n",
      "Inside the cave, they found a device with the IP address 192.168.1.1 and a MAC addres of 00-B0-D0-63-C2-26, which held valuable clues.\n",
      "\n",
      "Among the explorers, there was a wordsmith who loved finding words with three consecutive vowels:\n",
      " were some of his favorites.\n",
      "As they continued their adventure, they encountered Lorem Ipsum, a lorem ipsum generator who spoke in Latin:\n",
      "\n",
      "In their pursuit, they stumbled upon an ancient book with mysterious ISBN-10 and ISBN-13 numbers:\n",
      "ISBN-10: 123456789X and ISBN-13: 978-1234567890.\n",
      "Their journey was filled with unexpected twists and turns, much like the regex patterns they used to decipher clues.\n",
      "After a long day, the explorers gathered around a campfire, sharing tales of their encounters. They realized that every step of their adventure was a puzzle waiting to be solved, just like the regex challenges they had conquered.\n",
      "As they drifted off to sleep under a starlit sky, they knew that their quest for treasure and knowledge had only just begun, and the magic of Regexville would continue to guide their way.\n",
      "\n",
      "\n"
     ]
    }
   ],
   "source": [
    "print(re.sub(r'\".*\\w*.*\"','',s))"
   ]
  },
  {
   "cell_type": "markdown",
   "id": "e6cb2b73-c45b-4b28-8610-57d9304ddfe5",
   "metadata": {},
   "source": [
    "#### Create a Python program that extracts all the dates in the format \"dd/mm/yyyy\" from a given text."
   ]
  },
  {
   "cell_type": "code",
   "execution_count": 12,
   "id": "cf67cec5-9f4a-42ac-866f-4f28111d2f1f",
   "metadata": {},
   "outputs": [
    {
     "name": "stdout",
     "output_type": "stream",
     "text": [
      "\n",
      "\n",
      "Once upon a time, in the enchanted land of Regexville, there lived a group of intrepid explorers.\n",
      "Their leader, Alice, was known for her love of adventure and her trusty email address, alice@example.com.\n",
      "Her phone number, 123-456-7890, was her lifeline in times of trouble.\n",
      "One day, Alice received a mysterious letter with today's date: . The letter hinted at an upcoming quest.\n",
      "The explorers gathered at the local inn, where they found a weathered map marked with a hashtag: #adventure.\n",
      "The map pointed to a hidden treasure on the website https://www.treasurehunt.com. The inn's address was 123 Main Street, Regexville, ZIP: 12345-6789.\n",
      "Their journey took them through the ancient forest, where they stumbled upon a cave with cryptic inscriptions:\n",
      "\"Python is amazing!\" and \"Java is equally fascinating!\" The explorers knew they were on the right path.\n",
      "Inside the cave, they found a device with the IP address 192.168.1.1 and a MAC addres of 00-B0-D0-63-C2-26, which held valuable clues.\n",
      "\n",
      "Among the explorers, there was a wordsmith who loved finding words with three consecutive vowels:\n",
      "\"boasting,\" \"quizzical,\" \"genuine,\" and \"queue\" were some of his favorites.\n",
      "As they continued their adventure, they encountered Lorem Ipsum, a lorem ipsum generator who spoke in Latin:\n",
      "\"Lorem ipsum dolor sit amet, consectetur adipiscing elit.\"\n",
      "In their pursuit, they stumbled upon an ancient book with mysterious ISBN-10 and ISBN-13 numbers:\n",
      "ISBN-10: 123456789X and ISBN-13: 978-1234567890.\n",
      "Their journey was filled with unexpected twists and turns, much like the regex patterns they used to decipher clues.\n",
      "After a long day, the explorers gathered around a campfire, sharing tales of their encounters. They realized that every step of their adventure was a puzzle waiting to be solved, just like the regex challenges they had conquered.\n",
      "As they drifted off to sleep under a starlit sky, they knew that their quest for treasure and knowledge had only just begun, and the magic of Regexville would continue to guide their way.\n",
      "\n",
      "\n"
     ]
    }
   ],
   "source": [
    "print(re.sub(r'\\d{2,}/\\d{2,}/\\d{4,}','',s))"
   ]
  },
  {
   "cell_type": "markdown",
   "id": "bc8cd00e-ce8e-4ef3-a20e-e3714464a827",
   "metadata": {},
   "source": [
    "#### Write a Python program that extracts all the words that contain only lowercase letters from a given text."
   ]
  },
  {
   "cell_type": "code",
   "execution_count": 15,
   "id": "67e053c3-c06c-490d-83d2-13d5873df074",
   "metadata": {},
   "outputs": [
    {
     "name": "stdout",
     "output_type": "stream",
     "text": [
      "\n",
      "\n",
      "Once   ,      Regexville,       .\n",
      "Their , Alice,            , @..\n",
      "Her  , 123-456-7890,       .\n",
      "One , Alice      ' : 08/10/2023. The      .\n",
      "The      ,          : #.\n",
      "The          ://... The '   123 Main Street, Regexville, ZIP: 12345-6789.\n",
      "Their       ,         :\n",
      "\"Python  !\"  \"Java   !\" The        .\n",
      "Inside  ,       IP  192.168.1.1   MAC   00-B0-D0-63-C2-26,    .\n",
      "\n",
      "Among  ,            :\n",
      "\",\" \",\" \",\"  \"\"     .\n",
      "As    ,   Lorem Ipsum,        Latin:\n",
      "\"Lorem    ,   .\"\n",
      "In  ,         ISBN-10  ISBN-13 :\n",
      "ISBN-10: 123456789X  ISBN-13: 978-1234567890.\n",
      "Their        ,          .\n",
      "After   ,      ,     . They              ,        .\n",
      "As         ,             ,     Regexville      .\n",
      "\n",
      "\n"
     ]
    }
   ],
   "source": [
    "print(re.sub(r'\\b[a-z]+\\b','',s))"
   ]
  },
  {
   "cell_type": "markdown",
   "id": "27138953-f3d8-4e8e-b94f-9cf60043cb76",
   "metadata": {},
   "source": [
    "#### Create a Python program that finds and prints all the hashtags (words starting with #) in a given text."
   ]
  },
  {
   "cell_type": "code",
   "execution_count": 16,
   "id": "93e50146-3390-46d7-8440-23dc4f0b5e5f",
   "metadata": {},
   "outputs": [
    {
     "name": "stdout",
     "output_type": "stream",
     "text": [
      "['#adventure']\n"
     ]
    }
   ],
   "source": [
    "print(re.findall(r'#\\w+',s))"
   ]
  },
  {
   "cell_type": "markdown",
   "id": "b73f8a8f-320a-44d7-95ee-587e48bffd17",
   "metadata": {},
   "source": [
    "#### Create a Python program to validate and extract ISBN-10 and ISBN-13 numbers from a given text."
   ]
  },
  {
   "cell_type": "code",
   "execution_count": 18,
   "id": "cf458093-044e-47f8-bdac-4d8ce22669ee",
   "metadata": {},
   "outputs": [
    {
     "name": "stdout",
     "output_type": "stream",
     "text": [
      "\n",
      "\n",
      "Once upon a time, in the enchanted land of Regexville, there lived a group of intrepid explorers.\n",
      "Their leader, Alice, was known for her love of adventure and her trusty email address, alice@example.com.\n",
      "Her phone number, 123-456-7890, was her lifeline in times of trouble.\n",
      "One day, Alice received a mysterious letter with today's date: 08/10/2023. The letter hinted at an upcoming quest.\n",
      "The explorers gathered at the local inn, where they found a weathered map marked with a hashtag: #adventure.\n",
      "The map pointed to a hidden treasure on the website https://www.treasurehunt.com. The inn's address was 123 Main Street, Regexville, ZIP: 12345-6789.\n",
      "Their journey took them through the ancient forest, where they stumbled upon a cave with cryptic inscriptions:\n",
      "\"Python is amazing!\" and \"Java is equally fascinating!\" The explorers knew they were on the right path.\n",
      "Inside the cave, they found a device with the IP address 192.168.1.1 and a MAC addres of 00-B0-D0-63-C2-26, which held valuable clues.\n",
      "\n",
      "Among the explorers, there was a wordsmith who loved finding words with three consecutive vowels:\n",
      "\"boasting,\" \"quizzical,\" \"genuine,\" and \"queue\" were some of his favorites.\n",
      "As they continued their adventure, they encountered Lorem Ipsum, a lorem ipsum generator who spoke in Latin:\n",
      "\"Lorem ipsum dolor sit amet, consectetur adipiscing elit.\"\n",
      "In their pursuit, they stumbled upon an ancient book with mysterious ISBN-10 and ISBN-13 numbers:\n",
      " and .\n",
      "Their journey was filled with unexpected twists and turns, much like the regex patterns they used to decipher clues.\n",
      "After a long day, the explorers gathered around a campfire, sharing tales of their encounters. They realized that every step of their adventure was a puzzle waiting to be solved, just like the regex challenges they had conquered.\n",
      "As they drifted off to sleep under a starlit sky, they knew that their quest for treasure and knowledge had only just begun, and the magic of Regexville would continue to guide their way.\n",
      "\n",
      "\n"
     ]
    }
   ],
   "source": [
    "print(re.sub(r'ISBN-\\d\\d: \\d{3,}?-?\\d{1,9}\\w','',s))"
   ]
  },
  {
   "cell_type": "markdown",
   "id": "3c9198be-8c2c-446d-8ad8-ae462af90a80",
   "metadata": {},
   "source": [
    "#### Write a Python program that extracts all the words that are exactly 5 characters long from a given text."
   ]
  },
  {
   "cell_type": "code",
   "execution_count": 20,
   "id": "8f44b3b6-be95-48ab-af59-e7bc2c26a652",
   "metadata": {},
   "outputs": [
    {
     "name": "stdout",
     "output_type": "stream",
     "text": [
      "\n",
      "\n",
      "Once upon a time, in the nted land of ville,   a  of pid rers.\n",
      " r, , was  for her love of ture and her y  ss, @le.com.\n",
      "Her  r, 123-456-7890, was her ine in  of le.\n",
      "One day,  ved a rious r with 's date: 08/10/2023. The r d at an ing .\n",
      "The rers red at the  inn,  they  a ered map d with a ag: #ture.\n",
      "The map ed to a n ure on the te ://www.urehunt.com. The inn's ss was 123 Main t, ville, ZIP: 12345-6789.\n",
      " ey took them gh the nt t,  they led upon a cave with ic iptions:\n",
      "\"n is ng!\" and \"Java is ly nating!\" The rers knew they were on the  path.\n",
      "e the cave, they  a e with the IP ss 192.168.1.1 and a MAC s of 00-B0-D0-63-C2-26,  held ble .\n",
      "\n",
      " the rers,  was a mith who  ng  with  cutive s:\n",
      "\"ing,\" \"ical,\" \"ne,\" and \"\" were some of his ites.\n",
      "As they nued  ture, they ntered  , a   ator who  in :\n",
      "\"   sit amet, ctetur scing elit.\"\n",
      "In  it, they led upon an nt book with rious ISBN-10 and ISBN-13 rs:\n",
      "ISBN-10: 123456789X and ISBN-13: 978-1234567890.\n",
      " ey was d with ected s and , much like the  rns they used to her .\n",
      " a long day, the rers red d a ire, ng  of  nters. They zed that  step of  ture was a e ng to be d, just like the  enges they had ered.\n",
      "As they ed off to   a it sky, they knew that   for ure and edge had only just , and the  of ville  nue to   way.\n",
      "\n",
      "\n"
     ]
    }
   ],
   "source": [
    "print(re.sub(r'\\b[a-z|A-z]{5,5}','',s))"
   ]
  },
  {
   "cell_type": "markdown",
   "id": "d19b4948-59f5-4d3d-9875-7f0f7e5ac60d",
   "metadata": {},
   "source": [
    "#### Create a Python program to validate and extract IPv4 addresses from a given text."
   ]
  },
  {
   "cell_type": "code",
   "execution_count": 21,
   "id": "2a0082f4-c83b-44fc-a710-ae0dab06bc1d",
   "metadata": {},
   "outputs": [
    {
     "name": "stdout",
     "output_type": "stream",
     "text": [
      "['192.168.1.1']\n"
     ]
    }
   ],
   "source": [
    "print(re.sub(r'\\d{3,3}\\.\\d{3,3}\\.\\d\\.\\d','',s))"
   ]
  },
  {
   "cell_type": "markdown",
   "id": "9ce5f531-325b-4611-a5c3-b3b98d9eecf3",
   "metadata": {},
   "source": [
    "#### Write a Python program that extracts all the words that end with \"ing\" from a given text."
   ]
  },
  {
   "cell_type": "code",
   "execution_count": 23,
   "id": "65481a0a-c36c-4b2a-a354-0393c98520cc",
   "metadata": {},
   "outputs": [
    {
     "name": "stdout",
     "output_type": "stream",
     "text": [
      "\n",
      "\n",
      "Once upon a time, in the enchanted land of Regexville, there lived a group of intrepid explorers.\n",
      "Their leader, Alice, was known for her love of adventure and her trusty email address, alice@example.com.\n",
      "Her phone number, 123-456-7890, was her lifeline in times of trouble.\n",
      "One day, Alice received a mysterious letter with today's date: 08/10/2023. The letter hinted at an  quest.\n",
      "The explorers gathered at the local inn, where they found a weathered map marked with a hashtag: #adventure.\n",
      "The map pointed to a hidden treasure on the website https://www.treasurehunt.com. The inn's address was 123 Main Street, Regexville, ZIP: 12345-6789.\n",
      "Their journey took them through the ancient forest, where they stumbled upon a cave with cryptic inscriptions:\n",
      "\"Python is !\" and \"Java is equally !\" The explorers knew they were on the right path.\n",
      "Inside the cave, they found a device with the IP address 192.168.1.1 and a MAC addres of 00-B0-D0-63-C2-26, which held valuable clues.\n",
      "\n",
      "Among the explorers, there was a wordsmith who loved  words with three consecutive vowels:\n",
      "\",\" \"quizzical,\" \"genuine,\" and \"queue\" were some of his favorites.\n",
      "As they continued their adventure, they encountered Lorem Ipsum, a lorem ipsum generator who spoke in Latin:\n",
      "\"Lorem ipsum dolor sit amet, consectetur  elit.\"\n",
      "In their pursuit, they stumbled upon an ancient book with mysterious ISBN-10 and ISBN-13 numbers:\n",
      "ISBN-10: 123456789X and ISBN-13: 978-1234567890.\n",
      "Their journey was filled with unexpected twists and turns, much like the regex patterns they used to decipher clues.\n",
      "After a long day, the explorers gathered around a campfire,  tales of their encounters. They realized that every step of their adventure was a puzzle  to be solved, just like the regex challenges they had conquered.\n",
      "As they drifted off to sleep under a starlit sky, they knew that their quest for treasure and knowledge had only just begun, and the magic of Regexville would continue to guide their way.\n",
      "\n",
      "\n"
     ]
    }
   ],
   "source": [
    "print(re.sub(r'\\b\\w+ing\\b','',s))"
   ]
  },
  {
   "cell_type": "markdown",
   "id": "9c26f081-895f-487a-bb3b-b416804dc542",
   "metadata": {},
   "source": [
    "#### Create a Python program to validate and extract MAC addresses (in the format XX:XX:XX:XX:XX:XX) from a given text."
   ]
  },
  {
   "cell_type": "code",
   "execution_count": 26,
   "id": "014b0956-6ef8-46a1-8f0b-635e8bbad63b",
   "metadata": {},
   "outputs": [
    {
     "name": "stdout",
     "output_type": "stream",
     "text": [
      "\n",
      "\n",
      "Once upon a time, in the enchanted land of Regexville, there lived a group of intrepid explorers.\n",
      "Their leader, Alice, was known for her love of adventure and her trusty email address, alice@example.com.\n",
      "Her phone number, 123-456-7890, was her lifeline in times of trouble.\n",
      "One day, Alice received a mysterious letter with today's date: 08/10/2023. The letter hinted at an upcoming quest.\n",
      "The explorers gathered at the local inn, where they found a weathered map marked with a hashtag: #adventure.\n",
      "The map pointed to a hidden treasure on the website https://www.treasurehunt.com. The inn's address was 123 Main Street, Regexville, ZIP: 12345-6789.\n",
      "Their journey took them through the ancient forest, where they stumbled upon a cave with cryptic inscriptions:\n",
      "\"Python is amazing!\" and \"Java is equally fascinating!\" The explorers knew they were on the right path.\n",
      "Inside the cave, they found a device with the IP address 192.168.1.1 and a MAC addres of , which held valuable clues.\n",
      "\n",
      "Among the explorers, there was a wordsmith who loved finding words with three consecutive vowels:\n",
      "\"boasting,\" \"quizzical,\" \"genuine,\" and \"queue\" were some of his favorites.\n",
      "As they continued their adventure, they encountered Lorem Ipsum, a lorem ipsum generator who spoke in Latin:\n",
      "\"Lorem ipsum dolor sit amet, consectetur adipiscing elit.\"\n",
      "In their pursuit, they stumbled upon an ancient book with mysterious ISBN-10 and ISBN-13 numbers:\n",
      "ISBN-10: 123456789X and ISBN-13: 978-1234567890.\n",
      "Their journey was filled with unexpected twists and turns, much like the regex patterns they used to decipher clues.\n",
      "After a long day, the explorers gathered around a campfire, sharing tales of their encounters. They realized that every step of their adventure was a puzzle waiting to be solved, just like the regex challenges they had conquered.\n",
      "As they drifted off to sleep under a starlit sky, they knew that their quest for treasure and knowledge had only just begun, and the magic of Regexville would continue to guide their way.\n",
      "\n",
      "\n"
     ]
    }
   ],
   "source": [
    "print(re.sub(r'\\w{2,2}-\\w{2,2}-\\w{2,2}-\\w{2,2}-\\w{2,2}-\\w{2,2}','',s))"
   ]
  },
  {
   "cell_type": "markdown",
   "id": "336a3c27-2b61-4955-afc1-4f01329b8d61",
   "metadata": {},
   "source": [
    "#### Create a Python program to find all words that are before and after an 'and' from a given text. (x and y)"
   ]
  },
  {
   "cell_type": "code",
   "execution_count": 28,
   "id": "ae556604-fe25-481b-bafb-013ed03b5584",
   "metadata": {},
   "outputs": [
    {
     "name": "stdout",
     "output_type": "stream",
     "text": [
      "['adventure and her', 'twists and turns', 'treasure and knowledge']\n"
     ]
    }
   ],
   "source": [
    "print(re.findall(r'\\b[a-z|A-z]+\\b and \\b[a-z|A-z]+\\b',s))"
   ]
  },
  {
   "cell_type": "markdown",
   "id": "ce14d640-4643-430e-9bc4-e2fd0a4feea1",
   "metadata": {},
   "source": [
    "#### Create a Python program to find all words from given text that start and end with the same letter and it is not a vowl."
   ]
  },
  {
   "cell_type": "code",
   "execution_count": 46,
   "id": "425797f5-2e05-4f96-9fed-e596b7ccbd86",
   "metadata": {},
   "outputs": [
    {
     "name": "stdout",
     "output_type": "stream",
     "text": [
      "['', '', '', '', '', '', '', '', '', '', '', '', '', '', '', '', '', '', '', '', '', '', '', '', '', '', '', '', '', '', '', '', '', '', '', '', '', '', '', '', '', '', '', '', '', '', '', '', '', '', '', '', '', '', '', '', '', '', '', '', '', '', '', '', '', '', '', '', '', '', '', '', '', '', '', '', '', '', '', '', '', '', '', '', '', '', '', '', '', '', '', '', '', '', '', '', '', '', '', '', '', '', '', '', '', '', '', '', '', '', '', '', '', '', '', '', '', '', '', '', '', '', '', '', '', '', '', '', '', '', '', '', '', '', '', '', '', '', '', '', '', '', '', '', '', '', '', '', '', '', '', '', '', '', '', '', '', '', '', '', '', '', '', '', '', '', '', '', '', '', '', '', '', '', '', '', '', '', '', '', '', '', '', '', '', '', '', '', '', '', '', '', '', '', '', '', '', '', '', '', '', '', '', '', '', '', '', '', '', '', '', '', '', '', '', '', '', '', '', '', '', '', '', '', '', '', '', '', '', '', '', '', '', '', '', '', '', '', '', '', '', '', '', '', '', '', '', '', '', '', '', '', '', '', '', '', '', '', '', '', '', '', '', '', '', '', '', '', '', '', '', '', '', '', '', '', '', '', '', '', '', '', '', '', '', '', '', '', '', '', '', '', '', '', '', '', '', '', '', '', '', '', '', '', '', '', '', '', '', '', '', '', '', '', '', '', '', '', '', '', '', '', '', '', '', '', '', '', '', '', '', '', '', '', '', '', '', '', '', '', '', '', '', '', '', '', '', '', '', '', '', '', '', '', '', '', '', '', '', '', '', '', '', '', '', '', '', '', '', '', '', '', '', '', '', '', '', '', '', '', '', '', '', '', '', '', '', '', '', '', '', '', '', '', '', '', '', '', '', '', '', '', '', '', '', '', '', '', '', '', '', '', '', '', '', '', '', '', '', '', '', '', '', '', '', '', '', '', '', '', '', '', '', '', '', '', '', '', '', '', '', '', '', '', '', '', '', '', '', '', '', '', '', '', '', '', '', '', '', '', '', '', '', '', '', '', '', '', '', '', '', '', '', '', '', '', '', '', '', '', '', '', '', '', '', '', '', '', '', '', '', '', '', '', '', '', '', '', '', '', '', '', '', '', '', '', '', '', '', '', '', '', '', '', '', '', '', '', '', '', '', '', '', '', '', '', '', '', '', '', '', '', '', '', '', '', '', '', '', '', '', '', '', '', '', '', '', '', '', '', '', '', '', '', '', '', '', '', '', '', '', '', '', '', '', '', '', '', '', '', '', '', '', '', '', '', '', '', '', '', '', '', '', '', '', '', '', '', '', '', '', '', '', '', '', '', '', '', '', '', '', '', '', '', '', '', '', '', '', '', '', '', '', '', '', '', '', '', '', '', '', '', '', '', '', '', '', '', '', '', '', '', '', '', '', '', '', '', '', '', '', '', '', '', '', '', '', '', '', '', '', '', '', '', '', '', '', '', '', '', '', '', '', '', '', '', '', '', '', '', '', '', '', '', '', '', '', '', '', '', '', '', '', '', '', '', '', '', '', '', '', '', '', '', '', '', '', '', '', '', '', '', '', '', '', '', '', '', '', '', '', '', '', '', '', '', '', '', '', '', '', '', '', '', '', '', '', '', '', '', '', '', '', '', '', '', '', '', '', '', '', '', '', '', '', '', '', '', '', '', '', '', '', '', '', '', '', '', '', '', '', '', '', '', '', '', '', '', '', '', '', '', '', '', '', '', '', '', '', '', '', '', '', '', '', '', '', '', '', '', '', '', '', '', '', '', '', '', '', '', '', '', '', '', '', '', '', '', '', '', '', '', '', '', '', '', '', '', '', '', '', '', '', '', '', '', '', '', '', '', '', '', '', '', '', '', '', '', '', '', '', '', '', '', '', '', '', '', '', '', '', '', '', '', '', '', '', '', '', '', '', '', '', '', '', '', '', '', '', '', '', '', '', '', '', '', '', '', '', '', '', '', '', '', '', '', '', '', '', '', '', '', '', '', '', '', '', '', '', '', '', '', '', '', '', '', '', '', '', '', '', '', '', '', '', '', '', '', '', '', '', '', '', '', '', '', '', '', '', '', '', '', '', '', '', '', '', '', '', '', '', '', '', '', '', '', '', '', '', '', '', '', '', '', '', '', '', '', '', '', '', '', '', '', '', '', '', '', '', '', '', '', '', '', '', '', '', '', '', '', '', '', '', '', '', '', '', '', '', '', '', '', '', '', '', '', '', '', '', '', '', '', '', '', '', '', '', '', '', '', '', '', '', '', '', '', '', '', '', '', '', '', '', '', '', '', '', '', '', '', '', '', '', '', '', '', '', '', '', '', '', '', '', '', '', '', '', '', '', '', '', '', '', '', '', '', '', '', '', '', '', '', '', '', '', '', '', '', '', '', '', '', '', '', '', '', '', '', '', '', '', '', '', '', '', '', '', '', '', '', '', '', '', '', '', '', '', '', '', '', '', '', '', '', '', '', '', '', '', '', '', '', '', '', '', '', '', '', '', '', '', '', '', '', '', '', '', '', '', '', '', '', '', '', '', '', '', '', '', '', '', '', '', '', '', '', '', '', '', '', '', '', '', '', '', '', '', '', '', '', '', '', '', '', '', '', '', '', '', '', '', '', '', '', '', '', '', '', '', '', '', '', '', '', '', '', '', '', '', '', '', '', '', '', '', '', '', '', '', '', '', '', '', '', '', '', '', '', '', '', '', '', '', '', '', '', '', '', '', '', '', '', '', '', '', '', '', '', '', '', '', '', '', '', '', '', '', '', '', '', '', '', '', '', '', '', '', '', '', '', '', '', '', '', '', '', '', '', '', '', '', '', '', '', '', '', '', '', '', '', '', '', '', '', '', '', '', '', '', '', '', '', '', '', '', '', '', '', '', '', '', '', '', '', '', '', '', '', '', '', '', '', '', '', '', '', '', '', '', '', '', '', '', '', '', '', '', '', '', '', '', '', '', '', '', '', '', '', '', '', '', '', '', '', '', '', '', '', '', '', '', '', '', '', '', '', '', '', '', '', '', '', '', '', '', '', '', '', '', '', '', '', '', '', '', '', '', '', '', '', '', '', '', '', '', '', '', '', '', '', '', '', '', '', '', '', '', '', '', '', '', '', '', '', '', '', '', '', '', '', '', '', '', '', '', '', '', '', '', '', '', '', '', '', '', '', '', '', '', '', '', '', '', '', '', '', '', '', '', '', '', '', '', '', '', '', '', '', '', '', '', '', '', '', '', '', '', '', '', '', '', '', '', '', '', '', '', '', '', '', '', '', '', '', '', '', '', '', '', '', '', '', '', '', '', '', '', '', '', '', '', '', '', '', '', '', '', '', '', '', '', '', '', '', '', '', '', '', '', '', '', '', '', '', '', '', '', '', '', '', '', '', '', '', '', '', '', '', '', '', '', '', '', '', '', '', '', '', '', '', '', '', '', '', '', '', '', '', '', '', '', '', '', '', '', '', '', '', '', '', '', '', '', '', '', '', '', '', '', '', '', '', '', '', '', '', '', '', '', '', '', '', '', '', '', '', '', '', '', '', '', '', '', '', '', '', '', '', '', '', '', '', '', '', '', '', '', '', '', '', '', '', '', '', '', '', '', '', '', '', '', '', '', '', '', '', '', '', '', '', '', '', '', '', '', '', '', '', '', '', '', '', '', '', '', '', '', '', '', '', '', '', '', '', '', '', '', '', '', '', '', '', '', '', '', '', '', '', '', '', '', '', '', '', '', '', '', '', '', '', '', '', '', '', '', '', '', '', '', '', '', '', '', '', '', '', '', '', '', '', '', '', '', '', '', '', '', '', '', '', '', '', '', '', '', '', '', '', '', '', '', '', '', '', '', '', '', '', '', '', '', '', '', '', '', '', '', '', '', '', '', '', '', '', '', '', '', '', '', '', '', '', '', '', '', '', '', '', '', '', '', '', '', '', '', '', '', '', '', '', '', '', '', '', '', '', '', '', '', '', '', '', '', '', '', '', '', '', '', '', '', '', '', '', '', '', '', '', '', '', '', '', '', '', '', '', '', '', '', '', '', '', '', '', '', '', '', '', '', '', '', '', '', '', '', '', '', '', '', '', '', '', '', '', '', '', '', '', '', '', '', '', '', '', '', '', '', '', '', '', '', '', '', '', '', '', '', '', '', '', '', '', '', '', '', '', '', '', '', '', '', '', '', '', '', '', '', '', '', '', '', '', '', '', '', '', '', '', '', '', '', '', '', '', '', '', '', '', '', '', '', '', '', '', '', '', '', '', '', '', '', '', '', '', '', '', '', '', '', '', '', '', '', '', '', '', '', '', '', '', '', '', '', '', '', '', '', '', '', '', '', '', '', '', '', '', '', '', '', '', '', '', '', '', '', '', '', '', '', '', '', '', '', '', '', '', '', '', '', '', '', '', '', '', '', '', '', '', '', '', '', '', '', '', '', '', '', '', '', '', '', '', '', '', '', '', '', '', '', '', '', '', '', '', '', '', '', '', '', '', '', '', '', '', '', '', '', '', '', '', '', '', '', '', '', '', '', '', '', '', '', '', '', '', '', '', '']\n"
     ]
    }
   ],
   "source": [
    "print(re.findall(r'',s))"
   ]
  },
  {
   "cell_type": "markdown",
   "id": "43f0cef3-f507-4a71-b233-a931840e8d53",
   "metadata": {},
   "source": [
    "#### Create a Python program to find all 'lorem ipsum' appearances (not cap sensitive) from a given text"
   ]
  },
  {
   "cell_type": "code",
   "execution_count": 29,
   "id": "68664edc-36cd-4574-85a1-4de6d27efe95",
   "metadata": {},
   "outputs": [
    {
     "name": "stdout",
     "output_type": "stream",
     "text": [
      "['Lorem Ipsum', 'lorem ipsum', 'Lorem ipsum']\n"
     ]
    }
   ],
   "source": [
    "print(re.findall(r'[l|L]orem [i|I]psum',s))"
   ]
  },
  {
   "cell_type": "markdown",
   "id": "d70b5e51-4592-496c-a386-dd6c0b83d514",
   "metadata": {},
   "source": [
    "#### Create a Python program to find all repeating equal consonants from a given text.(nn,tt,...)"
   ]
  },
  {
   "cell_type": "code",
   "execution_count": 42,
   "id": "a6cd72b0-e2d0-400f-8499-63393325f9ca",
   "metadata": {},
   "outputs": [
    {
     "name": "stdout",
     "output_type": "stream",
     "text": [
      "['\\n', 'l', 'd', 's', 't', 't', 'n', 'd', 't', '/', 'w', 'n', 'd', 's', 'l', 'l', 'd', 's', 'd', '0', '\\n', 'z', 'l', 't', 'z', 'l', 'f', 'l', '\\n']\n"
     ]
    }
   ],
   "source": [
    "print(re.findall(r'([^aeiouAEIOU])\\1',s))"
   ]
  },
  {
   "cell_type": "code",
   "execution_count": null,
   "id": "0b40d8ac-6f07-49cc-a634-56cda9b40f28",
   "metadata": {},
   "outputs": [],
   "source": []
  }
 ],
 "metadata": {
  "kernelspec": {
   "display_name": "Python 3 (ipykernel)",
   "language": "python",
   "name": "python3"
  },
  "language_info": {
   "codemirror_mode": {
    "name": "ipython",
    "version": 3
   },
   "file_extension": ".py",
   "mimetype": "text/x-python",
   "name": "python",
   "nbconvert_exporter": "python",
   "pygments_lexer": "ipython3",
   "version": "3.11.5"
  }
 },
 "nbformat": 4,
 "nbformat_minor": 5
}
